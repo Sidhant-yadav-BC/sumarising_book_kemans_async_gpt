{
 "cells": [
  {
   "cell_type": "code",
   "execution_count": 2,
   "metadata": {},
   "outputs": [],
   "source": [
    "from langchain.document_loaders import PyPDFLoader\n",
    "from langchain import OpenAI\n",
    "import os\n",
    "import tiktoken\n",
    "from dotenv import load_dotenv\n",
    "from langchain.vectorstores import FAISS\n",
    "from langchain.embeddings import OpenAIEmbeddings\n",
    "from langchain.chains.summarize import load_summarize_chain\n",
    "from sklearn.cluster import KMeans\n",
    "from langchain.text_splitter import RecursiveCharacterTextSplitter"
   ]
  },
  {
   "cell_type": "code",
   "execution_count": 3,
   "metadata": {},
   "outputs": [],
   "source": [
    "OpenAI.openai_api_key= os.getenv(\"OPENAI_API_KEY\")"
   ]
  },
  {
   "cell_type": "code",
   "execution_count": 4,
   "metadata": {},
   "outputs": [],
   "source": [
    "laoder = PyPDFLoader(\"../../Work From Home Policy.pdf\")\n",
    "pages= laoder.load()"
   ]
  },
  {
   "cell_type": "code",
   "execution_count": 5,
   "metadata": {},
   "outputs": [],
   "source": [
    "text = \"\"\n",
    "for page in pages:\n",
    "    text+=page.page_content"
   ]
  },
  {
   "cell_type": "code",
   "execution_count": 6,
   "metadata": {},
   "outputs": [],
   "source": [
    "text= text.replace('\\t', ' ')\n",
    "text= text.replace('\\n', ' ')"
   ]
  },
  {
   "cell_type": "code",
   "execution_count": 7,
   "metadata": {},
   "outputs": [
    {
     "data": {
      "text/plain": [
       "\"     WORK  FROM  HOME POLICY  & PROCEDURE     This policy  and the definitions  stated  herein  are applicable  to employees/contractors  of BC & AG (“the   Company”) that have been deemed amenable to working from home. This policy applies to all   employees and contractors who work from home/telecommute on a permanent basis as well and   those  who  work  from  home  occasionally.     Description : Work  from  home  is a mutually  agreed  upon  work  arrangement  between  the  employee/contractor and the company. For employees/contractors who work out of office on a   regular basis, work from home might be permitted in certain situations, after explicit approval from   the line manager  has been  received.  Though  the employee/contractor  will not work out  of the  office,   they will be expected to perform the same duties remotely with added diligence to ensure they are   effective,  and distractions  do not impact  work  negatively.     Hours of Work : The employee/contractor will devote a minimum of 45 hours a week toward their   official responsibilities and must ensure that they are available on phone and the official internal   messaging tool throughout their workday. They must also ensure adherence to agreed upon work   timings  and ensure  approval  from  the line manager  is received  is case  of any exception.     Confidentiality : During  the employee’s/contractor’s  tenure,  s/he  is required  to not disclose  to anyone   and by any means the Company’s confidential information. In addition, the company expects the   employee/contractor to review and sign the company’s Confidentiality Agreement & Data Protection   guidelines,  as well as complete  other  relevant  documentation  as requested  by the company.     Workspace : The employee/contractor must establish and maintain a cle an, safe, and  dedicated   workspace.     Internet : Employees/contractors working from home permanently, for extended periods or on a   frequent  basis,  are required  to obtain  a broadband  connection  to ensure  hassle -free connectivity .  Employees  who  intend  to work  from  home  for a short  period,  can approach  the IT team  for assistance   with  an Internet  dongle  at least  one week  prior  to working  from  home.     Communication : Employees/Contractors must keep their line managers informed of progress on   assignments  worked  on at home,  including  any problems  which  they  experience  while  telecommuting.     Attendance  and leave  tracking : Your  need  to continue  to mark  your  attendance  and leave  in the leave   management  software  (LMS)  on a regular  basis  without  any exceptions.     Hardware and Software: Employees/Contractors will have access to data/folders via VPN access on   a “need -to-know”  basis.  Should  any additional  information  be required, they  are requested  to speak   to and get sign  off from  their  line managers.     a. Login  and access:   Password:  Employees/Contractors should have a strong password. It should contain at least   8 characters, be alpha numeric, and contain at least one special character. The password   should be changed every 45 days and should not be shared with anyone or stored at a   location  where  it can  be viewed  /accessed  by family  or visitors.       b. Hardware  Security  Measures:   Virus Protection : Virus Protection software is installed on all machines and will be updated   regularly. Employees/Contractors must never stop the update process for Virus Protection.   This update  is critical  to ensure  security  of data  and must  not be stopped/  closed.     VPN and Firewall Use : Established procedures as laid down in our Data Protection policy   must  be followed  while  accessing information  of any type.  The company  requires  the use of  VPN software and a firewall device. Disabling a virus scanner or firewall can be reason for   termination  of contr act.    Lock  Screens : Irrespective  of the location  they  are at, employees/contractors  should  always   lock their  computer/laptop  screen  before  walking  away  from  their workstation.     c. Data  Security  Measures:   Data Backup : Backup procedures have been established by the IT team.   Employees/contractors  should  use only  established  procedures  and not create  one on their   own. If a backup procedure is not established, they are required to contact the IT team for   assistance.     External System Access:  If an employee/contractor requires access to an external system,   s/he  is required  to contact  their  line manager  for approval.  The IT Helpdesk  or appropriate   personnel  will assist  in establishing  a secure  method  to access  the external  system.     E-mail:  The employee/contractor should not send any confidential information via e -mail   unless  it is encrypted.  If any assistance  is needed,  employees/contractors  can contact  the IT  team or appropriate personnel to ensure that an approved encryption mechan ism is used   for transmission  through  e-mail.     Protect  Data  in Possession:  Employees/contractors  should  regularly  review  the data  stored,   to ensure that the amount of sensitive data is kept at a minimum and that old data is   eliminated  as soon  as possible.     Hard Copy Reports or Work Papers:  Employees/Contractors should never leave paper   records around the work area. They should lock all paper records in a file cabinet once the   work is completed and before leaving the work area. They should use appr opriate methods   of shredding  unwanted  documents.     Data Entry When in a Public Location:  The company suggests that employees/contractor do   not perform work tasks  which  require  the use of sensitive  information  when  in public  areas,   e.g., airports, airplanes,  hotel lobbies, etc. Remember computer screens can easily be   viewed  by others  around  you.     Sending  Data  Outside  the Organization : All external transfer  of data  must  be associated  with   an official contract or agreement. Employees/contractors should not provide or transfer any   sensitive information to anyone outside the company, without the written approval of their   line manager.     d. Disposal  of Paper  and/or  External  Media   Shredding:  All papers/hard  copy  documents  that contain  confidential  information  and are no    longer  required  must  be shredded  before  being  disposed.  Do not throw  dispose  them   without  shredding.     Disposal of Electronic Media:  All external media must be sanitized or destroyed in   accordance with compliance procedures. Do not move any media containing sensitive or   protected  information  in the trash.     Return  all external  media  to your  line manager/IT  division.       e. Other Expenses : The company does not assume responsibility for operating costs, home   maintenance,  or any other  incidental  costs  (e.g.,  utilities)  whatsoever,  associated  with  the  use of the employee’s/contractor's  residence.     f. Asset Maintenance:  Employees/Contract ors must ensure the safety of official property   (such as laptop, accessories etc.) handed over for work purposes at the time of joining. If you   notice any damage in the assets given, ensure that you inform IT immediately. If official   property is damaged in  transit (travel) or otherwise while in the possession of the   employee/contractor,  s/he  will have  to bear  expenses  to repair  the same.     g. Return of office property upon Resignation/Termination: Employees/contractors are   required to bear the courier/travel cost of returning the company assets handed out at the   time of joining, to the company’s office in Mumbai. While handing over office property,   employees/contractors  must  notify  the courier  company  transporting  said property  and the  IT team a bout any existing defects/damage. Expenses to repair damage to company assets,   might  be recovered  from  the full and final  settlement.     h. Amendment  to Policy : Any changes  to this policy  from  time  to time  will be applicable  to all  work from home employees/contractors and will override the related clause mentioned in   this document.  \""
      ]
     },
     "execution_count": 7,
     "metadata": {},
     "output_type": "execute_result"
    }
   ],
   "source": [
    "text"
   ]
  },
  {
   "cell_type": "code",
   "execution_count": 8,
   "metadata": {},
   "outputs": [],
   "source": [
    "llm = OpenAI(model=\"gpt-3.5-turbo\")"
   ]
  },
  {
   "cell_type": "code",
   "execution_count": 9,
   "metadata": {},
   "outputs": [
    {
     "data": {
      "text/plain": [
       "1830"
      ]
     },
     "execution_count": 9,
     "metadata": {},
     "output_type": "execute_result"
    }
   ],
   "source": [
    "num_tokens = llm.get_num_tokens(text)\n",
    "num_tokens"
   ]
  },
  {
   "cell_type": "code",
   "execution_count": 10,
   "metadata": {},
   "outputs": [],
   "source": [
    "text_splitter = RecursiveCharacterTextSplitter(chunk_size = 1000)\n",
    "docs = text_splitter.create_documents([text])"
   ]
  },
  {
   "cell_type": "code",
   "execution_count": 11,
   "metadata": {},
   "outputs": [
    {
     "data": {
      "text/plain": [
       "10"
      ]
     },
     "execution_count": 11,
     "metadata": {},
     "output_type": "execute_result"
    }
   ],
   "source": [
    "len(docs)"
   ]
  },
  {
   "cell_type": "code",
   "execution_count": 14,
   "metadata": {},
   "outputs": [],
   "source": [
    "embeddings = OpenAIEmbeddings()\n",
    "vectors = embeddings.embed_documents([x.page_content for x in docs])"
   ]
  },
  {
   "cell_type": "code",
   "execution_count": 18,
   "metadata": {},
   "outputs": [
    {
     "name": "stderr",
     "output_type": "stream",
     "text": [
      "/Users/sidhantyadav/Desktop/pythonProjects/summarizeBooks/book/lib/python3.9/site-packages/sklearn/cluster/_kmeans.py:1412: FutureWarning: The default value of `n_init` will change from 10 to 'auto' in 1.4. Set the value of `n_init` explicitly to suppress the warning\n",
      "  super()._check_params_vs_input(X, default_n_init=10)\n"
     ]
    }
   ],
   "source": [
    "num_clusters = 10\n",
    "kmeans = KMeans(n_clusters= num_clusters, random_state= 42).fit(vectors)"
   ]
  },
  {
   "cell_type": "code",
   "execution_count": 19,
   "metadata": {},
   "outputs": [
    {
     "data": {
      "text/plain": [
       "array([2, 8, 4, 0, 6, 5, 9, 1, 7, 3], dtype=int32)"
      ]
     },
     "execution_count": 19,
     "metadata": {},
     "output_type": "execute_result"
    }
   ],
   "source": [
    "kmeans.labels_"
   ]
  },
  {
   "cell_type": "code",
   "execution_count": null,
   "metadata": {},
   "outputs": [],
   "source": []
  }
 ],
 "metadata": {
  "kernelspec": {
   "display_name": "book",
   "language": "python",
   "name": "python3"
  },
  "language_info": {
   "codemirror_mode": {
    "name": "ipython",
    "version": 3
   },
   "file_extension": ".py",
   "mimetype": "text/x-python",
   "name": "python",
   "nbconvert_exporter": "python",
   "pygments_lexer": "ipython3",
   "version": "3.9.6"
  },
  "orig_nbformat": 4
 },
 "nbformat": 4,
 "nbformat_minor": 2
}
